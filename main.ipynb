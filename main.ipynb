https://github.com/ManuDLTA/ANALISIS-ACTIVOS
